{
  "nbformat": 4,
  "nbformat_minor": 0,
  "metadata": {
    "colab": {
      "provenance": [],
      "gpuType": "T4",
      "authorship_tag": "ABX9TyNvfJxF+LGhu4ehYfRwnmbN",
      "include_colab_link": true
    },
    "kernelspec": {
      "name": "python3",
      "display_name": "Python 3"
    },
    "language_info": {
      "name": "python"
    },
    "accelerator": "GPU"
  },
  "cells": [
    {
      "cell_type": "markdown",
      "metadata": {
        "id": "view-in-github",
        "colab_type": "text"
      },
      "source": [
        "<a href=\"https://colab.research.google.com/github/KD-6712/GANS/blob/main/GANS_and_PCA.ipynb\" target=\"_parent\"><img src=\"https://colab.research.google.com/assets/colab-badge.svg\" alt=\"Open In Colab\"/></a>"
      ]
    },
    {
      "cell_type": "code",
      "source": [
        "import tensorflow as tf"
      ],
      "metadata": {
        "id": "rZ-1LS0VkwsP"
      },
      "execution_count": null,
      "outputs": []
    },
    {
      "cell_type": "code",
      "source": [
        "tf.__version__"
      ],
      "metadata": {
        "colab": {
          "base_uri": "https://localhost:8080/",
          "height": 35
        },
        "id": "u6Zifepcndez",
        "outputId": "ee98ca93-f336-46ae-d5c5-719675c94acc"
      },
      "execution_count": null,
      "outputs": [
        {
          "output_type": "execute_result",
          "data": {
            "text/plain": [
              "'2.15.0'"
            ],
            "application/vnd.google.colaboratory.intrinsic+json": {
              "type": "string"
            }
          },
          "metadata": {},
          "execution_count": 2
        }
      ]
    },
    {
      "cell_type": "code",
      "source": [
        "import matplotlib.pyplot as plt\n",
        "import numpy as np\n",
        "import os\n",
        "import PIL\n",
        "from tensorflow.keras import layers\n",
        "import time\n",
        "\n",
        "from IPython import display"
      ],
      "metadata": {
        "id": "bGVll3bZnfzk"
      },
      "execution_count": null,
      "outputs": []
    },
    {
      "cell_type": "code",
      "source": [
        "(train_images, train_labels), (_, _) = tf.keras.datasets.mnist.load_data()\n",
        "print(train_images.shape)\n",
        "print(train_labels.shape)\n",
        "#train_images = train_images[:20000]"
      ],
      "metadata": {
        "colab": {
          "base_uri": "https://localhost:8080/"
        },
        "id": "52tUQvq0n2-c",
        "outputId": "8322a8a5-4360-4881-9c82-2d1cb7fa3204"
      },
      "execution_count": null,
      "outputs": [
        {
          "output_type": "stream",
          "name": "stdout",
          "text": [
            "Downloading data from https://storage.googleapis.com/tensorflow/tf-keras-datasets/mnist.npz\n",
            "11490434/11490434 [==============================] - 0s 0us/step\n",
            "(60000, 28, 28)\n",
            "(60000,)\n"
          ]
        }
      ]
    },
    {
      "cell_type": "code",
      "source": [
        "train_images = train_images.reshape(train_images.shape[0], 28, 28, 1).astype('float32')\n",
        "# Normalize the images to [-1, 1]\n",
        "train_images = (train_images - 127.5) / 127.5"
      ],
      "metadata": {
        "id": "VlNf0RI1owN3"
      },
      "execution_count": null,
      "outputs": []
    },
    {
      "cell_type": "code",
      "source": [
        "BUFFER_SIZE = 10000\n",
        "BATCH_SIZE = 256"
      ],
      "metadata": {
        "id": "rgy9J4KSp5ly"
      },
      "execution_count": null,
      "outputs": []
    },
    {
      "cell_type": "code",
      "source": [
        "# Batch and shuffle the data\n",
        "train_dataset = tf.data.Dataset.from_tensor_slices(train_images).shuffle(BUFFER_SIZE).batch(BATCH_SIZE)\n",
        "print(type(train_dataset))\n",
        "print(train_dataset)"
      ],
      "metadata": {
        "colab": {
          "base_uri": "https://localhost:8080/"
        },
        "id": "2boHk82CqASN",
        "outputId": "3e10d2d7-1303-480c-c8ab-881782b081f7"
      },
      "execution_count": null,
      "outputs": [
        {
          "output_type": "stream",
          "name": "stdout",
          "text": [
            "<class 'tensorflow.python.data.ops.batch_op._BatchDataset'>\n",
            "<_BatchDataset element_spec=TensorSpec(shape=(None, 28, 28, 1), dtype=tf.float32, name=None)>\n"
          ]
        }
      ]
    },
    {
      "cell_type": "code",
      "source": [
        "def make_generator_model():\n",
        "  # Making a sequential layer of neural networks\n",
        "  model = tf.keras.Sequential()\n",
        "  # Creating a dense layer of fully connected neural network\n",
        "  model.add(layers.Dense(7*7*256, use_bias=False, input_shape=(100,)))\n",
        "  # Applying batch normalization step to normalize the activations.\n",
        "  model.add(layers.BatchNormalization())\n",
        "  # Adding relu activation layer\n",
        "  model.add(layers.LeakyReLU())\n",
        "\n",
        "  model.add(layers.Reshape((7, 7, 256)))\n",
        "\n",
        "  # Add the convolutional 2d layer\n",
        "  model.add(layers.Conv2DTranspose(128, (5,5), strides=(1,1), padding=\"same\", use_bias=False))\n",
        "  # Applying batch normalization step to normalize the activations\n",
        "  model.add(layers.BatchNormalization())\n",
        "  # Adding relu activation layer\n",
        "  model.add(layers.LeakyReLU())\n",
        "\n",
        "  # Add the convolutional 2d layer\n",
        "  model.add(layers.Conv2DTranspose(64, (5,5), strides=(2,2), padding=\"same\", use_bias=False))\n",
        "  # Applying batch normalization step to normalize the activations\n",
        "  model.add(layers.BatchNormalization())\n",
        "  # Adding relu activation layer\n",
        "  model.add(layers.LeakyReLU())\n",
        "\n",
        "  # Add the final convolutional 2d transpose layer\n",
        "  model.add(layers.Conv2DTranspose(1, (5,5), strides=(2,2), padding=\"same\", use_bias=False, activation=\"tanh\"))\n",
        "\n",
        "  return model"
      ],
      "metadata": {
        "id": "1NyQzo6Fs7Li"
      },
      "execution_count": null,
      "outputs": []
    },
    {
      "cell_type": "code",
      "source": [
        "# Generating an image from untrained generator\n",
        "generator = make_generator_model()\n",
        "noise = tf.random.normal([1, 100])\n",
        "generated_image = generator(noise, training=False)\n",
        "plt.imshow(generated_image[0], cmap='gray')"
      ],
      "metadata": {
        "colab": {
          "base_uri": "https://localhost:8080/",
          "height": 447
        },
        "id": "RTo_pYIb8Cns",
        "outputId": "ad252816-cd06-42b6-ff10-ac920e5a6787"
      },
      "execution_count": null,
      "outputs": [
        {
          "output_type": "execute_result",
          "data": {
            "text/plain": [
              "<matplotlib.image.AxesImage at 0x78178c3e6e90>"
            ]
          },
          "metadata": {},
          "execution_count": 9
        },
        {
          "output_type": "display_data",
          "data": {
            "text/plain": [
              "<Figure size 640x480 with 1 Axes>"
            ],
            "image/png": "[encoded data removed]"
          },
          "metadata": {}
        }
      ]
    },
    {
      "cell_type": "code",
      "source": [
        "def make_discriminator_model():\n",
        "  # Making a sequential layer of neural networks\n",
        "  model = tf.keras.Sequential()\n",
        "  # Adding convolutional 2d layer\n",
        "  model.add(layers.Conv2D(64, (5,5), strides=(2,2), padding=\"same\", input_shape=[28, 28, 1]))\n",
        "\n",
        "  # Adding the Relu activation function\n",
        "  model.add(layers.LeakyReLU())\n",
        "  # Dropout randomly sets 0.3 fraction of input units to 0\n",
        "  model.add(layers.Dropout(0.3))\n",
        "\n",
        "  # Add the convolutional 2d layer\n",
        "  model.add(layers.Conv2D(128, (5,5), strides=(2,2), padding=\"same\"))\n",
        "  # Add the relu activation function\n",
        "  model.add(layers.LeakyReLU())\n",
        "  model.add(layers.Dropout(0.3))\n",
        "\n",
        "  model.add(layers.Flatten())\n",
        "  model.add(layers.Dense(1))\n",
        "\n",
        "  return model"
      ],
      "metadata": {
        "id": "o_XJwyuH9GH8"
      },
      "execution_count": null,
      "outputs": []
    },
    {
      "cell_type": "code",
      "source": [
        "discriminator = make_discriminator_model()\n",
        "decision = discriminator(generated_image)\n",
        "print(decision)"
      ],
      "metadata": {
        "colab": {
          "base_uri": "https://localhost:8080/"
        },
        "id": "fjU1PBQLBECP",
        "outputId": "618f98a1-c30f-4213-ace3-6b9996104b43"
      },
      "execution_count": null,
      "outputs": [
        {
          "output_type": "stream",
          "name": "stdout",
          "text": [
            "tf.Tensor([[-0.00120899]], shape=(1, 1), dtype=float32)\n"
          ]
        }
      ]
    },
    {
      "cell_type": "code",
      "source": [
        "# This method returns a helper function to compute cross entropy loss\n",
        "cross_entropy = tf.keras.losses.BinaryCrossentropy(from_logits=True)"
      ],
      "metadata": {
        "id": "1gPc_eF9BRWI"
      },
      "execution_count": null,
      "outputs": []
    },
    {
      "cell_type": "code",
      "source": [
        "def discriminator_loss(real_output, fake_output):\n",
        "  real_loss = cross_entropy(tf.ones_like(real_output), real_output)\n",
        "  fake_loss = cross_entropy(tf.zeros_like(fake_output), fake_output)\n",
        "  total_loss = real_loss + fake_loss\n",
        "  return total_loss"
      ],
      "metadata": {
        "id": "41ktaP7_WCWZ"
      },
      "execution_count": null,
      "outputs": []
    },
    {
      "cell_type": "code",
      "source": [
        "def generator_loss(fake_output):\n",
        "  # Here compare the discriminators decisions on the generated images to an array of 1s\n",
        "  return cross_entropy(tf.ones_like(fake_output), fake_output)"
      ],
      "metadata": {
        "id": "phggkOyKaAYP"
      },
      "execution_count": null,
      "outputs": []
    },
    {
      "cell_type": "code",
      "source": [
        "generator_optimizer = tf.keras.optimizers.Adam(1e-4)\n",
        "discriminator_optimizer = tf.keras.optimizers.Adam(1e-4)"
      ],
      "metadata": {
        "id": "bi9V4yA9cfUq"
      },
      "execution_count": null,
      "outputs": []
    },
    {
      "cell_type": "code",
      "source": [
        "EPOCHS = 50\n",
        "noise_dim = 100\n",
        "num_examples_to_generate = 15000\n",
        "\n",
        "# You will reuse this seed overtime\n",
        "seed = tf.random.normal([num_examples_to_generate, noise_dim])"
      ],
      "metadata": {
        "id": "lsCYU6Y-c6h-"
      },
      "execution_count": null,
      "outputs": []
    },
    {
      "cell_type": "code",
      "source": [
        "# Training starts with generator receiving a random seed as input. This seed\n",
        "# is used to produce an image. The discriminator is then used to classify real\n",
        "# images (drawn from the dataset) and fake images(produced by the generator)\n",
        "# The loss is calculated for each of these models, and the gradients are used to update  the\n",
        "# generator and the discriminator\n",
        "\n",
        "# Notice the use of `tf.function`\n",
        "# This annotation causes the function to be \"compiled\".\n",
        "@tf.function\n",
        "def train_step(images):\n",
        "  noise = tf.random.normal([BATCH_SIZE, noise_dim])\n",
        "\n",
        "  with tf.GradientTape() as gen_tape, tf.GradientTape() as disc_tape:\n",
        "    generated_images = generator(noise, training=True)\n",
        "\n",
        "    real_output = discriminator(images, training=True)\n",
        "    fake_output = discriminator(generated_images, training=True)\n",
        "\n",
        "    gen_loss = generator_loss(fake_output)\n",
        "    disc_loss = discriminator_loss(real_output, fake_output)\n",
        "\n",
        "  gradients_of_generator = gen_tape.gradient(gen_loss, generator.trainable_variables)\n",
        "  gradients_of_discriminator = disc_tape.gradient(disc_loss, discriminator.trainable_variables)\n",
        "\n",
        "  generator_optimizer.apply_gradients(zip(gradients_of_generator, generator.trainable_variables))\n",
        "  discriminator_optimizer.apply_gradients(zip(gradients_of_discriminator, discriminator.trainable_variables))\n"
      ],
      "metadata": {
        "id": "Yw29n4PWgIv1"
      },
      "execution_count": null,
      "outputs": []
    },
    {
      "cell_type": "code",
      "source": [
        "def train(dataset, epochs):\n",
        "  for epoch in range(epochs):\n",
        "    for image_batch in dataset:\n",
        "      train_step(image_batch)\n",
        "\n",
        "   # generate_and_save_images(generator, epoch + 1, seed)\n",
        "\n",
        "  generate_and_save_images(generator, epochs, seed)\n"
      ],
      "metadata": {
        "id": "jMRF24w1jK29"
      },
      "execution_count": null,
      "outputs": []
    },
    {
      "cell_type": "code",
      "source": [
        "def generate_and_save_images(model, epoch, test_input):\n",
        "  predictions = model(test_input, training=False)\n",
        "  print(\"The size of prediction is: \", predictions.shape)\n",
        "  pred = predictions\n",
        "  # fig = plt.figure(figsize=(4,4))\n",
        "  # for i in range(predictions.shape[0]):\n",
        "  #   plt.subplot(10, 10, i+1)\n",
        "  #   plt.imshow(predictions[i, :, :, 0] * 127.5 + 127.5, cmap='gray')\n",
        "  #   plt.axis('off')\n",
        "\n",
        "  # plt.show()"
      ],
      "metadata": {
        "id": "UNQispy-V1tg"
      },
      "execution_count": null,
      "outputs": []
    },
    {
      "cell_type": "code",
      "source": [
        "train(train_dataset, EPOCHS)"
      ],
      "metadata": {
        "colab": {
          "base_uri": "https://localhost:8080/"
        },
        "id": "avqTIGrdWPaZ",
        "outputId": "0f585a31-1882-4394-ca7d-094fd59178c1"
      },
      "execution_count": null,
      "outputs": [
        {
          "output_type": "stream",
          "name": "stdout",
          "text": [
            "The size of prediction is:  (15000, 28, 28, 1)\n"
          ]
        }
      ]
    },
    {
      "cell_type": "code",
      "source": [
        "predictions = generator(seed, training=False)\n",
        "disc_pred = discriminator(predictions, training=False)"
      ],
      "metadata": {
        "id": "pjVNSg-CRIZB"
      },
      "execution_count": null,
      "outputs": []
    },
    {
      "cell_type": "code",
      "source": [
        "print(predictions.shape)"
      ],
      "metadata": {
        "colab": {
          "base_uri": "https://localhost:8080/"
        },
        "id": "4C44UMmpE1R2",
        "outputId": "95355377-999a-4c34-9d07-36f6c78a5def"
      },
      "execution_count": null,
      "outputs": [
        {
          "output_type": "stream",
          "name": "stdout",
          "text": [
            "(15000, 28, 28, 1)\n",
            "tf.Tensor([-0.8124418], shape=(1,), dtype=float32)\n"
          ]
        }
      ]
    },
    {
      "cell_type": "code",
      "source": [
        "predictions = tf.reshape(predictions, shape=(-1, 784))\n",
        "print(predictions.shape)"
      ],
      "metadata": {
        "colab": {
          "base_uri": "https://localhost:8080/"
        },
        "id": "AGBw5TkwGJ12",
        "outputId": "bc066167-854e-4113-97cc-789560b22ac9"
      },
      "execution_count": null,
      "outputs": [
        {
          "output_type": "stream",
          "name": "stdout",
          "text": [
            "(15000, 784)\n"
          ]
        }
      ]
    },
    {
      "cell_type": "code",
      "source": [
        "# 2D Visualization using PCA\n",
        "\n",
        "from sklearn.preprocessing import StandardScaler\n",
        "standardized_data = StandardScaler().fit_transform(predictions)\n",
        "print(standardized_data.shape)"
      ],
      "metadata": {
        "colab": {
          "base_uri": "https://localhost:8080/"
        },
        "id": "FHnPJVe3Iw91",
        "outputId": "8a294227-ef59-4e7f-bf28-38614b6701f3"
      },
      "execution_count": null,
      "outputs": [
        {
          "output_type": "stream",
          "name": "stdout",
          "text": [
            "(15000, 784)\n"
          ]
        }
      ]
    },
    {
      "cell_type": "code",
      "source": [
        "sample_data = standardized_data"
      ],
      "metadata": {
        "id": "d94ej5IMJOFd"
      },
      "execution_count": null,
      "outputs": []
    },
    {
      "cell_type": "code",
      "source": [
        "from sklearn.decomposition import PCA\n",
        "pca = PCA(n_components = 2)\n",
        "obj = pca.fit_transform(sample_data)\n",
        "print(obj.shape)"
      ],
      "metadata": {
        "colab": {
          "base_uri": "https://localhost:8080/"
        },
        "id": "UxeT4Os8JUdT",
        "outputId": "a961cb5a-bc5d-4380-f70a-d8786e49c5ed"
      },
      "execution_count": null,
      "outputs": [
        {
          "output_type": "stream",
          "name": "stdout",
          "text": [
            "(15000, 2)\n"
          ]
        }
      ]
    },
    {
      "cell_type": "code",
      "source": [
        "print(pca.components_)"
      ],
      "metadata": {
        "colab": {
          "base_uri": "https://localhost:8080/"
        },
        "id": "E81IRBeCJX4q",
        "outputId": "842f8ff5-b889-47f1-8979-9f464e2e0115"
      },
      "execution_count": null,
      "outputs": [
        {
          "output_type": "stream",
          "name": "stdout",
          "text": [
            "[[ 0.02174247  0.03916603  0.05843618 ...  0.02739621  0.0199889\n",
            "  -0.00462921]\n",
            " [ 0.04697871  0.01060681 -0.03085626 ... -0.01746921 -0.02246262\n",
            "  -0.04230763]\n",
            " [ 0.12130568  0.10994331  0.07188555 ... -0.00554132  0.01015718\n",
            "   0.02521789]]\n"
          ]
        }
      ]
    },
    {
      "cell_type": "code",
      "source": [
        "print(sum(pca.explained_variance_ratio_))\n",
        "print(pca.explained_variance_ratio_)"
      ],
      "metadata": {
        "colab": {
          "base_uri": "https://localhost:8080/"
        },
        "id": "ShrQVCPqJZ_C",
        "outputId": "43a3dfe7-d359-4c66-e683-d309b662d67e"
      },
      "execution_count": null,
      "outputs": [
        {
          "output_type": "stream",
          "name": "stdout",
          "text": [
            "0.1338711869907522\n",
            "[0.05527969 0.0425274  0.03606409]\n"
          ]
        }
      ]
    },
    {
      "cell_type": "code",
      "source": [
        "var_ratio = []\n",
        "nums = [10, 50, 100, 200, 300, 400, 500]\n",
        "for num in nums:\n",
        "  pca = PCA(n_components=num)\n",
        "  pca.fit(sample_data).transform(sample_data)\n",
        "  var_ratio.append(np.sum(pca.explained_variance_ratio_))"
      ],
      "metadata": {
        "id": "kL4uvfXpJdmM"
      },
      "execution_count": null,
      "outputs": []
    },
    {
      "cell_type": "code",
      "source": [
        "plt.figure(figsize=(4,2), dpi=150)\n",
        "plt.grid()\n",
        "plt.plot(nums, var_ratio, marker='o')\n",
        "plt.xlabel('n_components')\n",
        "plt.ylabel('Explained variance ratio')\n",
        "plt.title('n_components vs Explained Variance Ratio')"
      ],
      "metadata": {
        "colab": {
          "base_uri": "https://localhost:8080/",
          "height": 389
        },
        "id": "5dpNuPf5Jgn1",
        "outputId": "5e96a36a-c15d-4341-8646-a4d098d24764"
      },
      "execution_count": null,
      "outputs": [
        {
          "output_type": "execute_result",
          "data": {
            "text/plain": [
              "Text(0.5, 1.0, 'n_components vs Explained Variance Ratio')"
            ]
          },
          "metadata": {},
          "execution_count": 30
        },
        {
          "output_type": "display_data",
          "data": {
            "text/plain": [
              "<Figure size 600x300 with 1 Axes>"
            ],
            "image/png": "[encoded data removed]"
          },
          "metadata": {}
        }
      ]
    },
    {
      "cell_type": "code",
      "source": [
        "plt.figure(figsize=(8, 4))\n",
        "plt.scatter(predictions[:, 0], predictions[:, 1], c='blue', label='Generated Images')\n",
        "plt.scatter(train_images[:, 0], train_images[:, 1], c='red', label='Real MNIST Images')\n",
        "plt.title('Scatter Plot of GAN-generated and Real MNIST Images')\n",
        "plt.legend()\n",
        "plt.show()"
      ],
      "metadata": {
        "colab": {
          "base_uri": "https://localhost:8080/",
          "height": 391
        },
        "id": "51QwFiCvELCH",
        "outputId": "6d00524c-dae3-44ee-8a02-d0d48a04826f"
      },
      "execution_count": null,
      "outputs": [
        {
          "output_type": "display_data",
          "data": {
            "text/plain": [
              "<Figure size 800x400 with 1 Axes>"
            ],
            "image/png": "[encoded data removed]"
          },
          "metadata": {}
        }
      ]
    },
    {
      "cell_type": "code",
      "source": [],
      "metadata": {
        "id": "DP8E7f5-Fytk"
      },
      "execution_count": null,
      "outputs": []
    }
  ]
}